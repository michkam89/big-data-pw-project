{
 "cells": [
  {
   "cell_type": "code",
   "execution_count": 2,
   "metadata": {},
   "outputs": [
    {
     "name": "stdout",
     "output_type": "stream",
     "text": [
      "22/11/11 14:28:48 WARN Utils: Your hostname, legion resolves to a loopback address: 127.0.1.1; using 192.168.1.88 instead (on interface wlp4s0)\n",
      "22/11/11 14:28:48 WARN Utils: Set SPARK_LOCAL_IP if you need to bind to another address\n",
      "22/11/11 14:28:49 WARN NativeCodeLoader: Unable to load native-hadoop library for your platform... using builtin-java classes where applicable\n"
     ]
    },
    {
     "name": "stderr",
     "output_type": "stream",
     "text": [
      "Setting default log level to \"WARN\".\n",
      "To adjust logging level use sc.setLogLevel(newLevel). For SparkR, use setLogLevel(newLevel).\n"
     ]
    },
    {
     "name": "stdout",
     "output_type": "stream",
     "text": [
      "22/11/11 14:28:49 WARN Utils: Service 'SparkUI' could not bind on port 4040. Attempting port 4041.\n"
     ]
    }
   ],
   "source": [
    "from pyspark.sql import SparkSession\n",
    "import os\n",
    "\n",
    "PATH=\"jars/spark-xml_2.12-0.15.0.jar\"\n",
    "\n",
    "spark = SparkSession.builder.master(\"local[12]\").appName(\"MyApp\").config(\"spark.jars\", PATH).getOrCreate()\n"
   ]
  },
  {
   "cell_type": "markdown",
   "metadata": {},
   "source": [
    "# Load data to data frames"
   ]
  },
  {
   "cell_type": "markdown",
   "metadata": {},
   "source": [
    "## Users"
   ]
  },
  {
   "cell_type": "code",
   "execution_count": 3,
   "metadata": {},
   "outputs": [
    {
     "name": "stdout",
     "output_type": "stream",
     "text": [
      "+--------------------+----------+--------------------+--------------+----------+---+--------------------+--------------------+--------------------+-----------+--------+------+--------------------+\n",
      "|            _AboutMe|_AccountId|       _CreationDate|  _DisplayName|_DownVotes|_Id|     _LastAccessDate|           _Location|    _ProfileImageUrl|_Reputation|_UpVotes|_Views|         _WebsiteUrl|\n",
      "+--------------------+----------+--------------------+--------------+----------+---+--------------------+--------------------+--------------------+-----------+--------+------+--------------------+\n",
      "|<p>Hi, I'm not re...|        -1|2014-01-21 18:45:...|     Community|       478| -1|2014-01-21 18:45:...|  on the server farm|                null|          1|       2|     5|http://meta.stack...|\n",
      "|<p>Dev #2 who hel...|         2|2014-01-21 21:21:...|  Geoff Dalgas|         0|  1|2016-05-06 22:34:...|       Corvallis, OR|https://i.stack.i...|        101|       0|    42|http://stackoverf...|\n",
      "|<p>Former Stack E...|    109934|2014-01-21 21:22:...|Kasra Rahjerdi|         0|  2|2018-01-29 20:48:...|New York, NY, Uni...|https://i.stack.i...|        408|      12|    12|http://kasrarahje...|\n",
      "|\\n<p>Developer at...|     37099|2014-01-21 21:22:...|     Adam Lear|         2|  3|2021-06-04 21:38:...|        New York, NY|https://i.stack.i...|         99|       2|     1|                null|\n",
      "|<p><strong>BY DAY...|    237028|2014-01-21 21:22:...| Arie Litovsky|         0|  4|2016-12-23 19:21:...|                 USA|                null|        291|       3|     4|http://www.arieli...|\n",
      "+--------------------+----------+--------------------+--------------+----------+---+--------------------+--------------------+--------------------+-----------+--------+------+--------------------+\n",
      "only showing top 5 rows\n",
      "\n"
     ]
    },
    {
     "name": "stderr",
     "output_type": "stream",
     "text": [
      "                                                                                \r"
     ]
    }
   ],
   "source": [
    "from pyspark.sql.types import *\n",
    "\n",
    "users_schema = StructType([\n",
    "    StructField('_AboutMe', StringType(), True),\n",
    "    StructField('_AccountId', IntegerType(), True),\n",
    "    StructField('_CreationDate', TimestampType(), True),\n",
    "    StructField(\"_DisplayName\", StringType(), True),\n",
    "    StructField(\"_DownVotes\", IntegerType(), True),\n",
    "    StructField(\"_Id\", IntegerType(), True),\n",
    "    StructField(\"_LastAccessDate\", TimestampType()),\n",
    "    StructField(\"_Location\", StringType(), True),\n",
    "    StructField(\"_ProfileImageUrl\", StringType(), True),\n",
    "    StructField(\"_Reputation\", IntegerType(), True),\n",
    "    StructField(\"_UpVotes\", IntegerType(), True),\n",
    "    StructField(\"_Views\", IntegerType(), True),\n",
    "    StructField(\"_WebsiteUrl\", StringType(), True)\n",
    "])\n",
    "\n",
    "users = spark.read.format('xml').options(rowTag='row').schema(users_schema).load(\"data/Users.xml\")\n",
    "users.show(5)"
   ]
  },
  {
   "cell_type": "markdown",
   "metadata": {},
   "source": [
    "## Tags"
   ]
  },
  {
   "cell_type": "code",
   "execution_count": 65,
   "metadata": {},
   "outputs": [
    {
     "name": "stdout",
     "output_type": "stream",
     "text": [
      "+------+--------------+---+-----------+-----------+\n",
      "|_Count|_ExcerptPostId|_Id|   _TagName|_WikiPostId|\n",
      "+------+--------------+---+-----------+-----------+\n",
      "|    17|          5062|  1|       hops|       5061|\n",
      "|    85|          7872|  2|    history|       7871|\n",
      "|    69|          4880|  4|    brewing|       4879|\n",
      "|    37|          5109|  5|    serving|       5108|\n",
      "|    31|           304|  6|temperature|        303|\n",
      "+------+--------------+---+-----------+-----------+\n",
      "only showing top 5 rows\n",
      "\n"
     ]
    }
   ],
   "source": [
    "tags_schema = StructType([\n",
    "    StructField('_Count', IntegerType(), True),\n",
    "    StructField('_ExcerptPostId', IntegerType(), True),\n",
    "    StructField('_Id', IntegerType(), True),\n",
    "    StructField(\"_TagName\", StringType(), True),\n",
    "    StructField(\"_WikiPostId\", IntegerType(), True)\n",
    "])\n",
    "\n",
    "tags = spark.read.format('xml').options(rowTag='row').schema(tags_schema).load(\"data/Tags.xml\")\n",
    "tags.show(n=5)"
   ]
  },
  {
   "cell_type": "markdown",
   "metadata": {},
   "source": [
    "## Votes"
   ]
  },
  {
   "cell_type": "code",
   "execution_count": 66,
   "metadata": {},
   "outputs": [
    {
     "name": "stdout",
     "output_type": "stream",
     "text": [
      "+-------------+-------------------+---+-------+-------+-----------+\n",
      "|_BountyAmount|      _CreationDate|_Id|_PostId|_UserId|_VoteTypeId|\n",
      "+-------------+-------------------+---+-------+-------+-----------+\n",
      "|         null|2014-01-21 01:00:00|  1|      1|   null|          2|\n",
      "|         null|2014-01-21 01:00:00|  2|      1|   null|          2|\n",
      "|         null|2014-01-21 01:00:00|  3|      4|   null|          2|\n",
      "|         null|2014-01-21 01:00:00|  4|      1|   null|          2|\n",
      "|         null|2014-01-21 01:00:00|  5|      4|   null|          2|\n",
      "+-------------+-------------------+---+-------+-------+-----------+\n",
      "only showing top 5 rows\n",
      "\n"
     ]
    }
   ],
   "source": [
    "votes_schema = StructType([\n",
    "    StructField('_BountyAmount', IntegerType(), True),\n",
    "    StructField('_CreationDate', TimestampType(), True),\n",
    "    StructField('_Id', IntegerType(), True),\n",
    "    StructField(\"_PostId\", StringType(), True),\n",
    "    StructField(\"_UserId\", IntegerType(), True),\n",
    "    StructField(\"_VoteTypeId\", IntegerType(), True)\n",
    "])\n",
    "\n",
    "votes = spark.read.format('xml').options(rowTag='row').schema(votes_schema).load(\"data/Votes.xml\")\n",
    "votes.show(n=5)"
   ]
  },
  {
   "cell_type": "markdown",
   "metadata": {},
   "source": [
    "## Posts"
   ]
  },
  {
   "cell_type": "code",
   "execution_count": 4,
   "metadata": {},
   "outputs": [
    {
     "name": "stdout",
     "output_type": "stream",
     "text": [
      "-RECORD 0------------------------------------------------------------------------------------------------------------------------------------------------------------------------------\n",
      " _AcceptedAnswerId      | 4                                                                                                                                                            \n",
      " _AnswerCount           | 1                                                                                                                                                            \n",
      " _Body                  | <p>I was offered a beer the other day that was reportedly made with citra hops. What are citra hops? Why should I care that my beer is made with them?</p>\\n \n",
      " _ClosedDate            | null                                                                                                                                                         \n",
      " _CommentCount          | 0                                                                                                                                                            \n",
      " _CommunityOwnedDate    | null                                                                                                                                                         \n",
      " _ContentLicense        | CC BY-SA 3.0                                                                                                                                                 \n",
      " _CreationDate          | 2014-01-21 21:26:05.383                                                                                                                                      \n",
      " _FavoriteCount         | null                                                                                                                                                         \n",
      " _Id                    | 1                                                                                                                                                            \n",
      " _LastActivityDate      | 2014-01-21 23:04:34.977                                                                                                                                      \n",
      " _LastEditDate          | 2014-01-21 23:04:34.977                                                                                                                                      \n",
      " _LastEditorDisplayName | null                                                                                                                                                         \n",
      " _LastEditorUserId      | 8                                                                                                                                                            \n",
      " _OwnerDisplayName      | null                                                                                                                                                         \n",
      " _OwnerUserId           | 7                                                                                                                                                            \n",
      " _ParentId              | null                                                                                                                                                         \n",
      " _PostTypeId            | 1                                                                                                                                                            \n",
      " _Score                 | 21                                                                                                                                                           \n",
      " _Tags                  | <hops>                                                                                                                                                       \n",
      " _Title                 | What is a citra hop, and how does it differ from other hops?                                                                                                 \n",
      " _ViewCount             | 2434                                                                                                                                                         \n",
      "only showing top 1 row\n",
      "\n"
     ]
    }
   ],
   "source": [
    "posts_schema = StructType([\n",
    "    StructField('_AcceptedAnswerId', IntegerType(), True),\n",
    "    StructField('_AnswerCount', IntegerType(), True),\n",
    "    StructField('_Body', StringType(), True),\n",
    "    StructField(\"_ClosedDate\", TimestampType(), True),\n",
    "    StructField(\"_CommentCount\", IntegerType(), True),\n",
    "    StructField(\"_CommunityOwnedDate\", TimestampType(), True),\n",
    "    StructField(\"_ContentLicense\", StringType(), True),\n",
    "    StructField(\"_CreationDate\", TimestampType(), True),\n",
    "    StructField(\"_FavoriteCount\", IntegerType(), True),\n",
    "    StructField(\"_Id\", IntegerType(), True),\n",
    "    StructField(\"_LastActivityDate\", TimestampType(), True),\n",
    "    StructField(\"_LastEditDate\", TimestampType(), True),\n",
    "    StructField(\"_LastEditorDisplayName\", StringType(), True),\n",
    "    StructField(\"_LastEditorUserId\", IntegerType(), True),\n",
    "    StructField(\"_OwnerDisplayName\", StringType(), True),\n",
    "    StructField(\"_OwnerUserId\", IntegerType(), True),\n",
    "    StructField(\"_ParentId\", IntegerType(), True),\n",
    "    StructField(\"_PostTypeId\", IntegerType(), True),\n",
    "    StructField(\"_Score\", IntegerType(), True),\n",
    "    StructField(\"_Tags\", StringType(), True),\n",
    "    StructField(\"_Title\", StringType(), True),\n",
    "    StructField(\"_ViewCount\", IntegerType(), True),\n",
    "])\n",
    "\n",
    "posts = spark.read.format('xml').options(rowTag='row').schema(posts_schema).load(\"data/Posts.xml\")\n",
    "posts.show(n=1,vertical=True, truncate=False)"
   ]
  },
  {
   "cell_type": "markdown",
   "metadata": {},
   "source": [
    "## Post links"
   ]
  },
  {
   "cell_type": "code",
   "execution_count": 68,
   "metadata": {},
   "outputs": [
    {
     "name": "stdout",
     "output_type": "stream",
     "text": [
      "-RECORD 0---------------------------------\n",
      " _CreationDate  | 2014-01-21 22:04:25.23  \n",
      " _Id            | 25                      \n",
      " _LinkTypeId    | 3                       \n",
      " _PostId        | 29                      \n",
      " _RelatedPostId | 25                      \n",
      "-RECORD 1---------------------------------\n",
      " _CreationDate  | 2014-01-21 22:42:09.103 \n",
      " _Id            | 89                      \n",
      " _LinkTypeId    | 1                       \n",
      " _PostId        | 83                      \n",
      " _RelatedPostId | 50                      \n",
      "only showing top 2 rows\n",
      "\n"
     ]
    }
   ],
   "source": [
    "links_schema = StructType([\n",
    "    StructField(\"_CreationDate\", TimestampType()),\n",
    "    StructField(\"_Id\", IntegerType()),\n",
    "    StructField(\"_LinkTypeId\", IntegerType()),\n",
    "    StructField(\"_PostId\", IntegerType()),\n",
    "    StructField(\"_RelatedPostId\", IntegerType())\n",
    "])\n",
    "\n",
    "links = spark.read.format('xml').options(rowTag='row').schema(links_schema).load(\"data/PostLinks.xml\")\n",
    "links.show(n=2,vertical=True, truncate=False)"
   ]
  },
  {
   "cell_type": "markdown",
   "metadata": {},
   "source": [
    "## Post History"
   ]
  },
  {
   "cell_type": "code",
   "execution_count": null,
   "metadata": {},
   "outputs": [],
   "source": [
    "history_schema = StructType([\n",
    "    StructField(\"_Comment\", StringType()),\n",
    "    StructField(\"_ContentLicense\", StringType()),\n",
    "    StructField(\"_CreationDate\", TimestampType()),\n",
    "    StructField(\"_Id\", IntegerType()),\n",
    "    StructField(\"_PostHistoryTypeId\", IntegerType()),\n",
    "    StructField(\"_PostId\", IntegerType()),\n",
    "    StructField(\"_RevisionGUID\", StringType()),\n",
    "    StructField(\"_Text\", StringType()),\n",
    "    StructField(\"_UserDisplayName\", StringType()),\n",
    "    StructField(\"_UserId\", IntegerType()),\n",
    "])\n",
    "\n",
    "history = spark.read.format('xml').options(rowTag='row').schema(history_schema).load(\"data/PostHistory.xml\")\n",
    "history.show(n=5,vertical=True, truncate=False)"
   ]
  },
  {
   "cell_type": "markdown",
   "metadata": {},
   "source": [
    "## Badges"
   ]
  },
  {
   "cell_type": "code",
   "execution_count": 70,
   "metadata": {},
   "outputs": [
    {
     "name": "stdout",
     "output_type": "stream",
     "text": [
      "-RECORD 0---------------------------\n",
      " _Class    | 3                      \n",
      " _Date     | 2014-01-21 21:52:16.97 \n",
      " _Id       | 1                      \n",
      " _Name     | Autobiographer         \n",
      " _TagBased | false                  \n",
      " _UserId   | 1                      \n",
      "-RECORD 1---------------------------\n",
      " _Class    | 3                      \n",
      " _Date     | 2014-01-21 21:52:16.97 \n",
      " _Id       | 2                      \n",
      " _Name     | Autobiographer         \n",
      " _TagBased | false                  \n",
      " _UserId   | 2                      \n",
      "-RECORD 2---------------------------\n",
      " _Class    | 3                      \n",
      " _Date     | 2014-01-21 21:52:16.97 \n",
      " _Id       | 3                      \n",
      " _Name     | Autobiographer         \n",
      " _TagBased | false                  \n",
      " _UserId   | 6                      \n",
      "-RECORD 3---------------------------\n",
      " _Class    | 3                      \n",
      " _Date     | 2014-01-21 21:52:16.97 \n",
      " _Id       | 4                      \n",
      " _Name     | Autobiographer         \n",
      " _TagBased | false                  \n",
      " _UserId   | 7                      \n",
      "-RECORD 4---------------------------\n",
      " _Class    | 3                      \n",
      " _Date     | 2014-01-21 21:52:16.97 \n",
      " _Id       | 5                      \n",
      " _Name     | Autobiographer         \n",
      " _TagBased | false                  \n",
      " _UserId   | 9                      \n",
      "only showing top 5 rows\n",
      "\n"
     ]
    }
   ],
   "source": [
    "badges_schema = StructType([\n",
    "    StructField(\"_Class\", IntegerType()),\n",
    "    StructField(\"_Date\", TimestampType()),\n",
    "    StructField(\"_Id\", IntegerType()),\n",
    "    StructField(\"_Name\", StringType()),\n",
    "    StructField(\"_TagBased\", BooleanType()),\n",
    "    StructField(\"_UserId\", IntegerType()),\n",
    "])\n",
    "\n",
    "badges = spark.read.format('xml').options(rowTag='row').schema(badges_schema).load(\"data/Badges.xml\")\n",
    "badges.show(n=5,vertical=True, truncate=False)"
   ]
  },
  {
   "cell_type": "markdown",
   "metadata": {},
   "source": [
    "## Clean up text columns"
   ]
  },
  {
   "cell_type": "code",
   "execution_count": 8,
   "metadata": {},
   "outputs": [],
   "source": [
    "from pyspark.sql.functions import regexp_replace, trim, udf, col\n",
    "\n",
    "from bs4 import BeautifulSoup\n",
    "from html import unescape\n",
    "\n",
    "def tags_remove(s):\n",
    "    if s is not None:\n",
    "        soup = BeautifulSoup(unescape(s), 'lxml')\n",
    "        return soup.text\n",
    "    else: \n",
    "        return None\n",
    "udf_tags_remove = udf(lambda m: tags_remove(m))\n",
    "\n",
    "users_clean = users.withColumn(\"_AboutMe_clean\", regexp_replace(\"_AboutMe\", \"\\n|\\t|\\r\", \" \")) \\\n",
    "    .withColumn(\"_AboutMe_clean\", udf_tags_remove(col('_AboutMe_clean'))) \\\n",
    "    .withColumn(\"_AboutMe_clean\", regexp_replace(\"_AboutMe_clean\", \"\\s{2,}\", \" \")) \\\n",
    "    .withColumn(\"_AboutMe_clean\", trim(\"_AboutMe_clean\"))\n",
    "\n",
    "\n",
    "history_clean = history.withColumn(\"_Text_clean\", regexp_replace(\"_Text\", \"\\n|\\t|\\r\", \" \")) \\\n",
    "    .withColumn(\"_Text_clean\", udf_tags_remove(col('_Text_clean'))) \\\n",
    "    .withColumn(\"_Text_clean\", regexp_replace(\"_Text_clean\", \"\\s{2,}\", \" \")) \\\n",
    "    .withColumn(\"_Text_clean\", trim(\"_Text_clean\"))\n",
    "\n",
    "posts_clean = posts.withColumn(\"_Body_clean\", regexp_replace(\"_Body\", \"\\n|\\t|\\r\", \" \")) \\\n",
    "    .withColumn(\"_Body_clean\", udf_tags_remove(col('_Body_clean'))) \\\n",
    "    .withColumn(\"_Body_clean\", regexp_replace(\"_Body_clean\", \"\\s{2,}\", \" \")) \\\n",
    "    .withColumn(\"_Body_clean\", trim(\"_Body_clean\"))"
   ]
  },
  {
   "cell_type": "markdown",
   "metadata": {},
   "source": [
    "## Write parquet"
   ]
  },
  {
   "cell_type": "code",
   "execution_count": 97,
   "metadata": {},
   "outputs": [
    {
     "name": "stderr",
     "output_type": "stream",
     "text": [
      "                                                                                \r"
     ]
    }
   ],
   "source": [
    "users_clean.select(\n",
    "    col(\"_AboutMe\").alias(\"about_me\"),\n",
    "    col(\"_AboutMe_clean\").alias(\"about_me_clean\"),\n",
    "    col(\"_CreationDate\").alias(\"creation_date\"),\n",
    "    col(\"_DisplayName\").alias(\"display_name\"),\n",
    "    col(\"_DownVotes\").alias(\"down_votes\"),\n",
    "    col(\"_Id\").alias(\"id\"),\n",
    "    col(\"_LastAccessDate\").alias(\"last_access_date\"),\n",
    "    col(\"_Location\").alias(\"location\"),\n",
    "    col(\"_ProfileImageUrl\").alias(\"profile_image_url\"),\n",
    "    col(\"_Reputation\").alias(\"reputatio\"),\n",
    "    col(\"_UpVotes\").alias(\"up_votes\"),\n",
    "    col(\"_Views\").alias(\"views\"),\n",
    "    col(\"_WebsiteUrl\").alias(\"website_url\")\n",
    ").write.mode('overwrite').format('parquet').option('path', \"outputs/users\").save()"
   ]
  },
  {
   "cell_type": "code",
   "execution_count": 98,
   "metadata": {},
   "outputs": [],
   "source": [
    "tags.select(\n",
    "    col(\"_Count\").alias(\"count\"),\n",
    "    col(\"_ExcerptPostId\").alias(\"excerpt_post_id\"),\n",
    "    col(\"_Id\").alias(\"id\"),\n",
    "    col(\"_TagName\").alias(\"tag_name\"),\n",
    "    col(\"_WikiPostId\").alias(\"wiki_post_id\"),\n",
    ").write.mode('overwrite').format('parquet').option('path', \"outputs/tags\").save()"
   ]
  },
  {
   "cell_type": "code",
   "execution_count": 100,
   "metadata": {},
   "outputs": [],
   "source": [
    "votes.select(\n",
    "    col(\"_BountyAmount\").alias(\"bounty_amount\"),\n",
    "    col(\"_CreationDate\").alias(\"creation_date\"),\n",
    "    col(\"_Id\").alias(\"id\"),\n",
    "    col(\"_PostId\").alias(\"post_id\"),\n",
    "    col(\"_UserId\").alias(\"user_id\"),\n",
    "    col(\"_VoteTypeId\").alias(\"vote_type_id\"),\n",
    ").write.mode('overwrite').format('parquet').option('path', \"outputs/votes\").save()"
   ]
  },
  {
   "cell_type": "code",
   "execution_count": 9,
   "metadata": {},
   "outputs": [
    {
     "name": "stderr",
     "output_type": "stream",
     "text": [
      "/home/michalk/Documents/big_data/final-project/.venv/lib/python3.9/site-packages/bs4/__init__.py:435: MarkupResemblesLocatorWarning: The input looks more like a filename than markup. You may want to open this file and pass the filehandle into Beautiful Soup.\n",
      "  warnings.warn(\n",
      "                                                                                \r"
     ]
    }
   ],
   "source": [
    "posts_clean.select(\n",
    "    col(\"_AcceptedAnswerId\").alias(\"accepted_answer_id\"),\n",
    "    col(\"_AnswerCount\").alias(\"answer_count\"),\n",
    "    col(\"_Body\").alias(\"body\"),\n",
    "    col(\"_Body_clean\").alias(\"body_clean\"),\n",
    "    col(\"_ClosedDate\").alias(\"closed_date\"),\n",
    "    col(\"_CommentCount\").alias(\"comment_count\"),\n",
    "    col(\"_CommunityOwnedDate\").alias(\"community_owned_date\"),\n",
    "    col(\"_ContentLicense\").alias(\"content_licence\"),\n",
    "    col(\"_CreationDate\").alias(\"creation_date\"),\n",
    "    col(\"_FavoriteCount\").alias(\"favourite_count\"),\n",
    "    col(\"_Id\").alias(\"id\"),\n",
    "    col(\"_LastActivityDate\").alias(\"last_activity_date\"),\n",
    "    col(\"_LastEditDate\").alias(\"last_edit_date\"),\n",
    "    col(\"_LastEditorDisplayName\").alias(\"last_editor_display_name\"),\n",
    "    col(\"_LastEditorUserId\").alias(\"last_editor_user_id\"),\n",
    "    col(\"_OwnerUserId\").alias(\"owner_user_id\"),\n",
    "    col(\"_PostTypeId\").alias(\"post_type_id\"),\n",
    "    col(\"_ParentId\").alias(\"parent_id\"),\n",
    "    col(\"_Score\").alias(\"score\"),\n",
    "    col(\"_Tags\").alias(\"tags\"),\n",
    "    col(\"_Title\").alias(\"title\"),\n",
    "    col(\"_ViewCount\").alias(\"view_count\"),\n",
    ").write.mode('overwrite').format('parquet').option('path', \"outputs/posts\").save()"
   ]
  },
  {
   "cell_type": "code",
   "execution_count": 106,
   "metadata": {},
   "outputs": [],
   "source": [
    "links.select(\n",
    "    col(\"_CreationDate\").alias(\"creation_date\"),\n",
    "    col(\"_Id\").alias(\"id\"),\n",
    "    col(\"_LinkTypeId\").alias(\"link_type_id\"),\n",
    "    col(\"_PostId\").alias(\"post_id\"),\n",
    "    col(\"_RelatedPostId\").alias(\"related_post_id\"),\n",
    ").write.mode('overwrite').format('parquet').option('path', \"outputs/post_links\").save()"
   ]
  },
  {
   "cell_type": "code",
   "execution_count": 109,
   "metadata": {},
   "outputs": [
    {
     "name": "stderr",
     "output_type": "stream",
     "text": [
      "                                                                                \r"
     ]
    }
   ],
   "source": [
    "history_clean.select(\n",
    "    col(\"_Comment\").alias(\"comment\"),\n",
    "    col(\"_ContentLicense\").alias(\"content_license\"),\n",
    "    col(\"_CreationDate\").alias(\"creation_date\"),\n",
    "    col(\"_Id\").alias(\"id\"),\n",
    "    col(\"_PostHistoryTypeId\").alias(\"post_history_type_id\"),\n",
    "    col(\"_PostId\").alias(\"post_id\"),\n",
    "    col(\"_RevisionGUID\").alias(\"revision_guid\"),\n",
    "    col(\"_Text\").alias(\"text\"),\n",
    "    col(\"_Text_clean\").alias(\"text_clean\"),\n",
    "    col(\"_UserDisplayName\").alias(\"user_distplay_name\"),\n",
    "    col(\"_UserId\").alias(\"user_id\"),\n",
    ").write.mode('overwrite').format('parquet').option('path', \"outputs/history\").save()"
   ]
  },
  {
   "cell_type": "code",
   "execution_count": 111,
   "metadata": {},
   "outputs": [],
   "source": [
    "badges.select(\n",
    "    col(\"_Class\").alias(\"class\"),\n",
    "    col(\"_Date\").alias(\"date\"),\n",
    "    col(\"_Id\").alias(\"id\"),\n",
    "    col(\"_Name\").alias(\"name\"),\n",
    "    col(\"_TagBased\").alias(\"tag_based\"),\n",
    "    col(\"_UserId\").alias(\"user_id\"),\n",
    ").write.mode('overwrite').format('parquet').option('path', \"outputs/badges\").save()"
   ]
  }
 ],
 "metadata": {
  "kernelspec": {
   "display_name": "Python 3.9.5 ('.venv': venv)",
   "language": "python",
   "name": "python3"
  },
  "language_info": {
   "codemirror_mode": {
    "name": "ipython",
    "version": 3
   },
   "file_extension": ".py",
   "mimetype": "text/x-python",
   "name": "python",
   "nbconvert_exporter": "python",
   "pygments_lexer": "ipython3",
   "version": "3.9.5"
  },
  "orig_nbformat": 4,
  "vscode": {
   "interpreter": {
    "hash": "5ee3676c91189ce03ca06b3cb8618f4625baaf8467964b2ece55466d1c9c7b9f"
   }
  }
 },
 "nbformat": 4,
 "nbformat_minor": 2
}
